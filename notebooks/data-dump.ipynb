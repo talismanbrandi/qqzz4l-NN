{
 "cells": [
  {
   "cell_type": "code",
   "execution_count": 4,
   "id": "181f5dc9-1ff0-44bd-ba0b-57f961aba5f8",
   "metadata": {},
   "outputs": [],
   "source": [
    "import pandas as pd\n",
    "from pyspark.sql import SparkSession\n",
    "from pyspark.sql.types import StructType, StructField, DoubleType\n",
    "import time\n",
    "import shutil\n",
    "import os\n",
    "import seaborn as sns"
   ]
  },
  {
   "cell_type": "code",
   "execution_count": 5,
   "id": "d15d1d9d-fed2-422b-b327-05eb5f765e7d",
   "metadata": {},
   "outputs": [],
   "source": [
    "# Spark session and configuration\n",
    "spark = (SparkSession.builder.master(\"local[80]\")\n",
    "         .config('spark.executor.instances', 16)\n",
    "         .config('spark.executor.cores', 16)\n",
    "         .config('spark.executor.memory', '10g')\n",
    "         .config('spark.driver.memory', '15g')\n",
    "         .config('spark.memory.offHeap.enabled', True)\n",
    "         .config('spark.memory.offHeap.size', '20g')\n",
    "         .config('spark.dirver.maxResultSize', '4096')\n",
    "         .appName(\"amp.hell\").getOrCreate())\n",
    "\n",
    "# Enable Arrow-based columnar data \n",
    "spark.conf.set(\"spark.sql.execution.arrow.pyspark.enabled\", \"true\")\n",
    "spark.conf.set(\n",
    "    \"spark.sql.execution.arrow.pyspark.fallback.enabled\", \"true\"\n",
    ")"
   ]
  },
  {
   "cell_type": "code",
   "execution_count": 6,
   "id": "e08705b1-a162-40c4-9831-8bcbee8aa677",
   "metadata": {},
   "outputs": [
    {
     "name": "stdout",
     "output_type": "stream",
     "text": [
      "read time: 31.28958487510681\n",
      "write time: 73.77821731567383\n"
     ]
    }
   ],
   "source": [
    "start = time.time()\n",
    "path = '/beegfs/desy/user/bishara/projects/27_mlme/27.53_qqzz_onshell/data.4d.5helas_14.0tev.y/'\n",
    "header = ['x'+str(i+1) for i in range(4)] + ['y'+str(i+1) for i in range(36)]\n",
    "schema = StructType([StructField(header[i], DoubleType(), True) for i in range(40)])\n",
    "df = spark.read.options(delimiter=\"  \").schema(schema).format(\"csv\").load(path+'dlxy.*.unif_costh/batch.*.dat.gz')\n",
    "print('read time:', time.time() - start)\n",
    "\n",
    "start = time.time()\n",
    "train_df, validate_df, test_df = df.randomSplit(weights=[0.5,0.25,0.25], seed=42)\n",
    "train_path = '../data/train'\n",
    "validate_path = '../data/validate'\n",
    "test_path = '../data/test'\n",
    "if os.path.exists(train_path):\n",
    "    shutil.rmtree(train_path, ignore_errors=True)\n",
    "if os.path.exists(validate_path):\n",
    "    shutil.rmtree(validate_path, ignore_errors=True)\n",
    "if os.path.exists(test_path):\n",
    "    shutil.rmtree(test_path, ignore_errors=True)\n",
    "(train_df.write.option(\"header\",True)\n",
    "           .option(\"delimiter\",\",\")\n",
    "           .option(\"compression\",\"gzip\")\n",
    "           .csv(train_path))\n",
    "(validate_df.write.option(\"header\",True)\n",
    "           .option(\"delimiter\",\",\")\n",
    "           .option(\"compression\",\"gzip\")\n",
    "           .csv(validate_path))\n",
    "(test_df.write.option(\"header\",True)\n",
    "           .option(\"delimiter\",\",\")\n",
    "           .option(\"compression\",\"gzip\")\n",
    "           .csv(test_path))\n",
    "print('write time:', time.time() - start)"
   ]
  },
  {
   "cell_type": "code",
   "execution_count": 7,
   "id": "9eaa3e2e-f660-4fe6-a85f-7023c32556b2",
   "metadata": {},
   "outputs": [
    {
     "name": "stdout",
     "output_type": "stream",
     "text": [
      "read time: 40.68884587287903\n",
      "write time: 62.522849559783936\n"
     ]
    }
   ],
   "source": [
    "start = time.time()\n",
    "path = '/beegfs/desy/user/bishara/projects/27_mlme/27.53_qqzz_onshell/data.4d.5helas_14.0tev.mc/'\n",
    "header = ['x'+str(i+1) for i in range(4)] + ['y'+str(i+1) for i in range(36)]\n",
    "schema = StructType([StructField(header[i], DoubleType(), True) for i in range(40)])\n",
    "df = spark.read.options(delimiter=\"  \").schema(schema).format(\"csv\").load(path+'dlxy.*/batch.*.dat.gz')\n",
    "print('read time:', time.time() - start)\n",
    "\n",
    "start = time.time()\n",
    "validate_df, test_df = df.randomSplit(weights=[0.5,0.5], seed=42)\n",
    "validate_path = '../data/validate_mc'\n",
    "test_path = '../data/test_mc'\n",
    "if os.path.exists(validate_path):\n",
    "    shutil.rmtree(validate_path, ignore_errors=True)\n",
    "if os.path.exists(test_path):\n",
    "    shutil.rmtree(test_path, ignore_errors=True)\n",
    "(validate_df.write.option(\"header\",True)\n",
    "           .option(\"delimiter\",\",\")\n",
    "           .option(\"compression\",\"gzip\")\n",
    "           .csv(validate_path))\n",
    "(test_df.write.option(\"header\",True)\n",
    "           .option(\"delimiter\",\",\")\n",
    "           .option(\"compression\",\"gzip\")\n",
    "           .csv(test_path))\n",
    "print('write time:', time.time() - start)"
   ]
  },
  {
   "cell_type": "code",
   "execution_count": 14,
   "id": "6eaf90ed-5632-42e6-8521-d26104e228b6",
   "metadata": {},
   "outputs": [],
   "source": [
    "(train_df.limit(1000000)\n",
    "        .select('x1', 'x2', 'x3', 'x4', 'y1', 'y2')\n",
    "        .write.option(\"header\",True)\n",
    "        .option(\"delimiter\",\",\")\n",
    "        .option(\"compression\",\"gzip\")\n",
    "        .csv('dataset'))"
   ]
  },
  {
   "cell_type": "code",
   "execution_count": null,
   "id": "b60a5579-5b9d-4314-9612-01718e7a5771",
   "metadata": {},
   "outputs": [],
   "source": []
  }
 ],
 "metadata": {
  "kernelspec": {
   "display_name": "PyCharm (Tutorials)",
   "language": "python",
   "name": "pycharm-38c7cf03"
  },
  "language_info": {
   "codemirror_mode": {
    "name": "ipython",
    "version": 3
   },
   "file_extension": ".py",
   "mimetype": "text/x-python",
   "name": "python",
   "nbconvert_exporter": "python",
   "pygments_lexer": "ipython3",
   "version": "3.6.8"
  }
 },
 "nbformat": 4,
 "nbformat_minor": 5
}
